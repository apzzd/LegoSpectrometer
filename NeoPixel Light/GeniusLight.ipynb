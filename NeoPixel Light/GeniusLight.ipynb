{
 "cells": [
  {
   "cell_type": "markdown",
   "id": "be7bd835",
   "metadata": {},
   "source": [
    "### NeoPixel Test\n",
    "\n",
    "More information at https://learn.adafruit.com/adafruit-seesaw-atsamd09-breakout/overview. Make sure to install the drivers first using\n",
    "\n",
    "```\n",
    "pip3 install adafruit-circuitpython-seesaw\n",
    "```"
   ]
  },
  {
   "cell_type": "code",
   "execution_count": 22,
   "id": "4db2dc42",
   "metadata": {},
   "outputs": [],
   "source": [
    "import time\n",
    "import board\n",
    "import busio\n",
    "import random\n",
    "from time import sleep\n",
    "from rainbowio import colorwheel\n",
    "from math import *\n",
    "from adafruit_seesaw import seesaw, neopixel\n",
    "from IPython.display import display\n",
    "\n",
    "i2c_bus = busio.I2C(board.SCL, board.SDA)\n",
    "ss = seesaw.Seesaw(i2c_bus)\n",
    "import ipywidgets as widgets\n",
    "\n",
    "\n",
    "def hex_to_rgb(value):\n",
    "    \n",
    "    value = value.lstrip('#')\n",
    "    lv = len(value)\n",
    "\n",
    "    return tuple(int(value[i:i + lv // 3], 16) for i in range(0, lv, lv // 3))"
   ]
  },
  {
   "cell_type": "code",
   "execution_count": 23,
   "id": "5c7ce740",
   "metadata": {},
   "outputs": [],
   "source": [
    "NEOPIXEL_PIN = 9  # change to Pin NeoPixel is connected to (9, 10, 11, 14, 15, 24, or 25 )\n",
    "NEOPIXEL_NUM = 1  # no more than 60!\n",
    "\n",
    "pixels = neopixel.NeoPixel(ss, NEOPIXEL_PIN, NEOPIXEL_NUM)"
   ]
  },
  {
   "cell_type": "code",
   "execution_count": 41,
   "id": "dd602bbf",
   "metadata": {},
   "outputs": [
    {
     "data": {
      "application/vnd.jupyter.widget-view+json": {
       "model_id": "c38a0a6c53b246f7971ebade787d3930",
       "version_major": 2,
       "version_minor": 0
      },
      "text/plain": [
       "ColorPicker(value='blue', description='Pick a color')"
      ]
     },
     "metadata": {},
     "output_type": "display_data"
    }
   ],
   "source": [
    "color = widgets.ColorPicker(\n",
    "    concise=False,\n",
    "    description='Pick a color',\n",
    "    value='blue',\n",
    "    disabled=False\n",
    ")\n",
    "\n",
    "\n",
    "display(color)"
   ]
  },
  {
   "cell_type": "code",
   "execution_count": 42,
   "id": "912a969d",
   "metadata": {},
   "outputs": [],
   "source": [
    "pixels.fill(hex_to_rgb(x.value))"
   ]
  },
  {
   "cell_type": "code",
   "execution_count": 24,
   "id": "d0fb2008",
   "metadata": {},
   "outputs": [
    {
     "data": {
      "text/plain": [
       "(217, 80, 0)"
      ]
     },
     "execution_count": 24,
     "metadata": {},
     "output_type": "execute_result"
    }
   ],
   "source": [
    "pixels.fill(hex_to_rgb(x.value))\n",
    "pixels.brightness = bright"
   ]
  },
  {
   "cell_type": "code",
   "execution_count": null,
   "id": "cf6bdf3e",
   "metadata": {},
   "outputs": [],
   "source": []
  }
 ],
 "metadata": {
  "kernelspec": {
   "display_name": "Python 3",
   "language": "python",
   "name": "python3"
  },
  "language_info": {
   "codemirror_mode": {
    "name": "ipython",
    "version": 3
   },
   "file_extension": ".py",
   "mimetype": "text/x-python",
   "name": "python",
   "nbconvert_exporter": "python",
   "pygments_lexer": "ipython3",
   "version": "3.7.3"
  }
 },
 "nbformat": 4,
 "nbformat_minor": 5
}
