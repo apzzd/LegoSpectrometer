{
 "cells": [
  {
   "cell_type": "markdown",
   "id": "be7bd835",
   "metadata": {},
   "source": [
    "### NeoPixel Test\n",
    "\n",
    "More information at https://learn.adafruit.com/adafruit-seesaw-atsamd09-breakout/overview. Make sure to install the drivers first using\n",
    "\n",
    "```\n",
    "pip3 install adafruit-circuitpython-seesaw\n",
    "```"
   ]
  },
  {
   "cell_type": "code",
   "execution_count": 1,
   "id": "4db2dc42",
   "metadata": {},
   "outputs": [],
   "source": [
    "import time\n",
    "import board\n",
    "import busio\n",
    "import random\n",
    "from time import sleep\n",
    "from rainbowio import colorwheel\n",
    "from math import *\n",
    "from adafruit_seesaw import seesaw, neopixel\n",
    "\n",
    "i2c_bus = busio.I2C(board.SCL, board.SDA)\n",
    "ss = seesaw.Seesaw(i2c_bus)"
   ]
  },
  {
   "cell_type": "code",
   "execution_count": 2,
   "id": "5c7ce740",
   "metadata": {},
   "outputs": [],
   "source": [
    "NEOPIXEL_PIN = 9  # change to Pin NeoPixel is connected to (9, 10, 11, 14, 15, 24, or 25 )\n",
    "NEOPIXEL_NUM = 1  # no more than 60!\n",
    "\n",
    "pixels = neopixel.NeoPixel(ss, NEOPIXEL_PIN, NEOPIXEL_NUM)"
   ]
  },
  {
   "cell_type": "code",
   "execution_count": 3,
   "id": "c0390ee5",
   "metadata": {},
   "outputs": [],
   "source": [
    "pixels.brightness = 5.0\n",
    "pixels.fill((184,0,255)) # Note this is Red, Green, Blue from 0 to 255"
   ]
  },
  {
   "cell_type": "code",
   "execution_count": 4,
   "id": "6ee97b79",
   "metadata": {},
   "outputs": [],
   "source": [
    "pixels.fill((0,0,0)) # Off"
   ]
  },
  {
   "cell_type": "code",
   "execution_count": 5,
   "id": "96a8be32",
   "metadata": {},
   "outputs": [],
   "source": [
    "colors = {\"white\": (255, 255, 255), \"yellow\": (255,255,0), \"orange\": (255,135,0), \"red\": (255, 0, 0), \"green\": (0, 255, 0), \"blue\": (0, 0, 255), \"purple\": (255, 0, 255)}\n",
    "disco = [(255, 0, 0), (255,135,0), (255,255,0), (0, 255, 0), (0, 0, 255), (131,0,255)]\n",
    "candle = [(255,146,0), (255,130,0), (235,125,0), (235,110,0), (235,149,0)]\n",
    "\n",
    "def Candle():\n",
    "    while True:\n",
    "        pixels.fill(candle[random.randint(0, len(candle)-1)])\n",
    "        sleep(random.randint(1, 10) / 20)\n",
    "        \n",
    "def Fade(color1, color2, time):\n",
    "    num_steps = 50\n",
    "    sleep_time = time/num_steps\n",
    "    for t in range(num_steps):\n",
    "        p = t/num_steps\n",
    "        p = 1/2 + sin(pi*(p-1/2))/2\n",
    "        new_color = (floor(color1[0]*(1-p)+color2[0]*p), \n",
    "                     floor(color1[1]*(1-p)+color2[1]*p),\n",
    "                     floor(color1[2]*(1-p)+color2[2]*p))\n",
    "        pixels.fill(new_color)\n",
    "        sleep(sleep_time)"
   ]
  },
  {
   "cell_type": "code",
   "execution_count": null,
   "id": "09b47c60",
   "metadata": {},
   "outputs": [
    {
     "name": "stdout",
     "output_type": "stream",
     "text": [
      "Start typing in commands.\n",
      "> fade red|orange|yellow|green|blue|purple\n",
      "Such repeat, much wow\n",
      "red\n",
      "This stopn't, so break the cell when done frend\n",
      "red\n",
      "orange\n",
      "yellow\n",
      "green\n",
      "blue\n",
      "purple\n",
      "red\n",
      "orange\n"
     ]
    }
   ],
   "source": [
    "def Interface():\n",
    "    print(\"Start typing in commands.\")\n",
    "    \n",
    "    while True:\n",
    "        comm = input(\"> \")\n",
    "        commL = comm.lower()\n",
    "        \n",
    "        if commL == \"help\":\n",
    "            print(\"Too bad sucker, no help 4 U\")\n",
    "            \n",
    "        if commL[0:6] == \"color \":\n",
    "            if commL[6:] in colors:\n",
    "                pixels.fill(colors[commL[6:]])\n",
    "            else:\n",
    "                print(\"!!! ERROR: Such stupidity very wow. Colorn't\")\n",
    "        \n",
    "        if commL[0:6] == \"flash \":\n",
    "            cs = commL[6:]\n",
    "            arr = cs.split(\"|\")\n",
    "            \n",
    "            for i in arr:\n",
    "                if i in colors:\n",
    "                    pixels.fill(colors[i])\n",
    "                    sleep(0.5)\n",
    "                else:\n",
    "                    print(\"!!! ERROR: Such stupidity very wow. Colorn't\")\n",
    "                    \n",
    "            pixels.fill((0,0,0))\n",
    "            \n",
    "        if commL == \"off\":\n",
    "            pixels.fill((0,0,0))\n",
    "            \n",
    "        if commL[0:8] == \"forever \":\n",
    "            print(\"Such repeat, much wow\")\n",
    "            cs = commL[8:]\n",
    "            arr = cs.split(\"|\")\n",
    "            print(\"This stopn't, so break the cell when done frend\")\n",
    "            \n",
    "            while True:\n",
    "                for i in arr:\n",
    "                    if i in colors:\n",
    "                        pixels.fill(colors[i])\n",
    "                        sleep(0.5)\n",
    "                    else:\n",
    "                        print(\"!!! ERROR: Such stupidity very wow. Colorn't\")\n",
    "                        \n",
    "        if commL == \"candle\":\n",
    "            print(\"U got it bruh, candleing now\")\n",
    "            sleep(0.5)\n",
    "            print(\"This stopn't, so break the cell when done frend\")\n",
    "            Candle()\n",
    "            \n",
    "        if commL[0:5] == \"fade \":\n",
    "            print(\"Such repeat, much wow\")\n",
    "            cs = commL[5:]\n",
    "            arr = cs.split(\"|\")\n",
    "            print(arr[0])\n",
    "            arr.append(arr[0])\n",
    "            print(\"This stopn't, so break the cell when done frend\")\n",
    "            \n",
    "            while True:\n",
    "                for i in range(len(arr) - 1):\n",
    "                    print(arr[i])\n",
    "                    if arr[i] in colors and arr[i+1] in colors:\n",
    "                        Fade(colors[arr[i]], colors[arr[i+1]], 3)\n",
    "                    else:\n",
    "                        print(\"!!! ERROR: Such stupidity very wow. Colorn't\")\n",
    "\n",
    "               \n",
    "                \n",
    "        \n",
    "                    \n",
    "            \n",
    "            \n",
    "Interface()        "
   ]
  },
  {
   "cell_type": "code",
   "execution_count": 1,
   "id": "26afc6d6",
   "metadata": {},
   "outputs": [
    {
     "ename": "NameError",
     "evalue": "name 'colors' is not defined",
     "output_type": "error",
     "traceback": [
      "\u001b[0;31m---------------------------------------------------------------------------\u001b[0m",
      "\u001b[0;31mNameError\u001b[0m                                 Traceback (most recent call last)",
      "\u001b[0;32m<ipython-input-1-a15c8457f4da>\u001b[0m in \u001b[0;36m<module>\u001b[0;34m\u001b[0m\n\u001b[1;32m      3\u001b[0m color_dict = {\n\u001b[1;32m      4\u001b[0m     \u001b[0;36m0\u001b[0m\u001b[0;34m:\u001b[0m \u001b[0;34m(\u001b[0m\u001b[0;36m0\u001b[0m\u001b[0;34m,\u001b[0m \u001b[0;36m0\u001b[0m\u001b[0;34m,\u001b[0m \u001b[0;36m0\u001b[0m\u001b[0;34m)\u001b[0m\u001b[0;34m,\u001b[0m\u001b[0;34m\u001b[0m\u001b[0;34m\u001b[0m\u001b[0m\n\u001b[0;32m----> 5\u001b[0;31m     \u001b[0;36m1\u001b[0m\u001b[0;34m:\u001b[0m \u001b[0mcolors\u001b[0m\u001b[0;34m[\u001b[0m\u001b[0;34m\"green\"\u001b[0m\u001b[0;34m]\u001b[0m\u001b[0;34m,\u001b[0m\u001b[0;34m\u001b[0m\u001b[0;34m\u001b[0m\u001b[0m\n\u001b[0m\u001b[1;32m      6\u001b[0m     \u001b[0;36m2\u001b[0m\u001b[0;34m:\u001b[0m \u001b[0mcolors\u001b[0m\u001b[0;34m[\u001b[0m\u001b[0;34m\"blue\"\u001b[0m\u001b[0;34m]\u001b[0m\u001b[0;34m,\u001b[0m\u001b[0;34m\u001b[0m\u001b[0;34m\u001b[0m\u001b[0m\n\u001b[1;32m      7\u001b[0m     \u001b[0;36m3\u001b[0m\u001b[0;34m:\u001b[0m \u001b[0mcolors\u001b[0m\u001b[0;34m[\u001b[0m\u001b[0;34m\"purple\"\u001b[0m\u001b[0;34m]\u001b[0m\u001b[0;34m,\u001b[0m\u001b[0;34m\u001b[0m\u001b[0;34m\u001b[0m\u001b[0m\n",
      "\u001b[0;31mNameError\u001b[0m: name 'colors' is not defined"
     ]
    }
   ],
   "source": [
    "from math import *\n",
    "\n",
    "color_dict = {\n",
    "    0: (0, 0, 0),\n",
    "    1: colors[\"green\"],\n",
    "    2: colors[\"blue\"],\n",
    "    3: colors[\"purple\"],\n",
    "    4: colors[\"red\"],\n",
    "    5: colors[\"orange\"],\n",
    "    6: colors[\"yellow\"],\n",
    "    7: colors[\"white\"]\n",
    "}\n",
    "\n",
    "for i in range(1, 128):\n",
    "    color_id = 0\n",
    "    while (i % 2 == 0):\n",
    "        color_id += 1\n",
    "        i = i/2\n",
    "    pixels.fill(color_dict[color_id])\n",
    "    sleep(0.3)\n",
    "    "
   ]
  },
  {
   "cell_type": "code",
   "execution_count": 8,
   "id": "d3ff694b",
   "metadata": {},
   "outputs": [],
   "source": []
  },
  {
   "cell_type": "code",
   "execution_count": 10,
   "id": "240fb4a9",
   "metadata": {},
   "outputs": [
    {
     "data": {
      "text/plain": [
       "(1, 2, 3, 4, 5, 6)"
      ]
     },
     "execution_count": 10,
     "metadata": {},
     "output_type": "execute_result"
    }
   ],
   "source": [
    "(1,2,3) + (4, 5, 6)"
   ]
  },
  {
   "cell_type": "code",
   "execution_count": null,
   "id": "dd602bbf",
   "metadata": {},
   "outputs": [],
   "source": []
  }
 ],
 "metadata": {
  "kernelspec": {
   "display_name": "Python 3",
   "language": "python",
   "name": "python3"
  },
  "language_info": {
   "codemirror_mode": {
    "name": "ipython",
    "version": 3
   },
   "file_extension": ".py",
   "mimetype": "text/x-python",
   "name": "python",
   "nbconvert_exporter": "python",
   "pygments_lexer": "ipython3",
   "version": "3.7.3"
  }
 },
 "nbformat": 4,
 "nbformat_minor": 5
}
