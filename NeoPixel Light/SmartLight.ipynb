{
 "cells": [
  {
   "cell_type": "markdown",
   "id": "be7bd835",
   "metadata": {},
   "source": [
    "### NeoPixel Test\n",
    "\n",
    "More information at https://learn.adafruit.com/adafruit-seesaw-atsamd09-breakout/overview. Make sure to install the drivers first using\n",
    "\n",
    "```\n",
    "pip3 install adafruit-circuitpython-seesaw\n",
    "```"
   ]
  },
  {
   "cell_type": "code",
   "execution_count": 11,
   "id": "4db2dc42",
   "metadata": {},
   "outputs": [],
   "source": [
    "import time\n",
    "import board\n",
    "import busio\n",
    "import random\n",
    "from time import sleep\n",
    "from rainbowio import colorwheel\n",
    "from adafruit_seesaw import seesaw, neopixel\n",
    "\n",
    "i2c_bus = busio.I2C(board.SCL, board.SDA)\n",
    "ss = seesaw.Seesaw(i2c_bus)"
   ]
  },
  {
   "cell_type": "code",
   "execution_count": 12,
   "id": "5c7ce740",
   "metadata": {},
   "outputs": [],
   "source": [
    "NEOPIXEL_PIN = 9  # change to Pin NeoPixel is connected to (9, 10, 11, 14, 15, 24, or 25 )\n",
    "NEOPIXEL_NUM = 1  # no more than 60!\n",
    "\n",
    "pixels = neopixel.NeoPixel(ss, NEOPIXEL_PIN, NEOPIXEL_NUM)"
   ]
  },
  {
   "cell_type": "code",
   "execution_count": 13,
   "id": "c0390ee5",
   "metadata": {},
   "outputs": [],
   "source": [
    "pixels.brightness = 5.0\n",
    "pixels.fill((184,0,255)) # Note this is Red, Green, Blue from 0 to 255"
   ]
  },
  {
   "cell_type": "code",
   "execution_count": 14,
   "id": "6ee97b79",
   "metadata": {},
   "outputs": [],
   "source": [
    "pixels.fill((0,0,0)) # Off"
   ]
  },
  {
   "cell_type": "code",
   "execution_count": 21,
   "id": "96a8be32",
   "metadata": {},
   "outputs": [],
   "source": [
    "colors = {\"white\": (255, 255, 255), \"yellow\": (255,212,83), \"golden\": (252,194,0), \"orange\": (255,174,66)}\n",
    "disco = [(255, 0, 0), (255,135,0), (255,255,0), (0, 255, 0), (0, 0, 255), (131,0,255)]\n",
    "\n",
    "def Candle():\n",
    "    while True:\n",
    "        pixels.fill((252,194,0))\n",
    "        sleep(random.randint(1, 10) / 20)\n",
    "        pixels.fill((0,0,0))\n",
    "        sleep(random.randint(1, 3) / 20)\n",
    "        "
   ]
  },
  {
   "cell_type": "code",
   "execution_count": 26,
   "id": "09b47c60",
   "metadata": {},
   "outputs": [],
   "source": [
    "def Interface():\n",
    "    print(\"Control your light with commands.\")\n",
    "    \n",
    "    while True:\n",
    "        comm = input(\"> \")\n",
    "        commL = comm.lower()\n",
    "        \n",
    "        if commL == \"help\":\n",
    "            print(\"- 'color' to change light color \\n - 'off' to turn light off \\n - 'on' to turn light on \\n - 'brightness' to change brightness \\n - 'disco' just for fun 😉🌈\")\n",
    "        elif commL == \"color\":\n",
    "            comm2 = input(\"Type in preset color. > \")\n",
    "            if comm2.lower() in colors:\n",
    "                pixels.fill(colors[comm2.lower()])\n",
    "            else:\n",
    "                break\n",
    "        elif commL == \"off\":\n",
    "            pixels.fill((0,0,0))\n",
    "        elif commL == \"on\":\n",
    "            pixels.fill(colors[\"white\"])\n",
    "        elif commL == \"brightness\":\n",
    "            comm2 = input(\"Brightness level. (1 - 10) > \")\n",
    "            b = int(comm2) / 10\n",
    "            pixels.brightness = b\n",
    "        elif commL == \"disco\":\n",
    "            def Disco():\n",
    "                for c in disco:\n",
    "                    pixels.fill(c)\n",
    "                    sleep(0.1)\n",
    "                    \n",
    "            while True:\n",
    "                Disco()\n",
    "                \n",
    "        elif commL == \"candle\":\n",
    "            pixels.brightness = 5.0\n",
    "            Candle()\n",
    "                    \n",
    "        else:\n",
    "            print(\"- 'color' to change light color \\n - 'off' to turn light off \\n - 'on' to turn light on \\n - 'brightness' to change brightness \\n - 'disco' just for fun 😉🌈 \\n - 'candle' candle effect\") "
   ]
  },
  {
   "cell_type": "code",
   "execution_count": null,
   "id": "45b6f9db",
   "metadata": {},
   "outputs": [
    {
     "name": "stdout",
     "output_type": "stream",
     "text": [
      "Control your light with commands.\n",
      "> candle\n"
     ]
    }
   ],
   "source": [
    "Interface() # cntrl C to quit the prog"
   ]
  },
  {
   "cell_type": "code",
   "execution_count": null,
   "id": "4196b91b",
   "metadata": {},
   "outputs": [],
   "source": []
  },
  {
   "cell_type": "code",
   "execution_count": null,
   "id": "1f056445",
   "metadata": {},
   "outputs": [],
   "source": []
  }
 ],
 "metadata": {
  "kernelspec": {
   "display_name": "Python 3",
   "language": "python",
   "name": "python3"
  },
  "language_info": {
   "codemirror_mode": {
    "name": "ipython",
    "version": 3
   },
   "file_extension": ".py",
   "mimetype": "text/x-python",
   "name": "python",
   "nbconvert_exporter": "python",
   "pygments_lexer": "ipython3",
   "version": "3.7.3"
  }
 },
 "nbformat": 4,
 "nbformat_minor": 5
}
