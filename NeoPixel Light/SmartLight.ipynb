{
 "cells": [
  {
   "cell_type": "markdown",
   "id": "be7bd835",
   "metadata": {},
   "source": [
    "### NeoPixel Test\n",
    "\n",
    "More information at https://learn.adafruit.com/adafruit-seesaw-atsamd09-breakout/overview. Make sure to install the drivers first using\n",
    "\n",
    "```\n",
    "pip3 install adafruit-circuitpython-seesaw\n",
    "```"
   ]
  },
  {
   "cell_type": "code",
   "execution_count": 12,
   "id": "4db2dc42",
   "metadata": {},
   "outputs": [],
   "source": [
    "import time\n",
    "import board\n",
    "import busio\n",
    "import random\n",
    "from time import sleep\n",
    "from rainbowio import colorwheel\n",
    "from adafruit_seesaw import seesaw, neopixel\n",
    "\n",
    "i2c_bus = busio.I2C(board.SCL, board.SDA)\n",
    "ss = seesaw.Seesaw(i2c_bus)"
   ]
  },
  {
   "cell_type": "code",
   "execution_count": 13,
   "id": "5c7ce740",
   "metadata": {},
   "outputs": [],
   "source": [
    "NEOPIXEL_PIN = 9  # change to Pin NeoPixel is connected to (9, 10, 11, 14, 15, 24, or 25 )\n",
    "NEOPIXEL_NUM = 1  # no more than 60!\n",
    "\n",
    "pixels = neopixel.NeoPixel(ss, NEOPIXEL_PIN, NEOPIXEL_NUM)"
   ]
  },
  {
   "cell_type": "code",
   "execution_count": 14,
   "id": "c0390ee5",
   "metadata": {},
   "outputs": [],
   "source": [
    "pixels.brightness = 5.0\n",
    "pixels.fill((184,0,255)) # Note this is Red, Green, Blue from 0 to 255"
   ]
  },
  {
   "cell_type": "code",
   "execution_count": 15,
   "id": "6ee97b79",
   "metadata": {},
   "outputs": [],
   "source": [
    "pixels.fill((0,0,0)) # Off"
   ]
  },
  {
   "cell_type": "code",
   "execution_count": 16,
   "id": "96a8be32",
   "metadata": {},
   "outputs": [],
   "source": [
    "colors = {\"white\": (255, 255, 255), \"yellow\": (255,255,0), \"orange\": (255,135,0), \"red\": (255, 0, 0), \"green\": (0, 255, 0), \"blue\": (0, 0, 255), \"purple\": (255, 0, 255)}\n",
    "disco = [(255, 0, 0), (255,135,0), (255,255,0), (0, 255, 0), (0, 0, 255), (131,0,255)]\n",
    "candle = [(255,146,0), (255,130,0), (235,125,0), (235,110,0), (235,149,0)]\n",
    "\n",
    "def Candle():\n",
    "    while True:\n",
    "        pixels.fill(candle[random.randint(0, len(candle)-1)])\n",
    "        sleep(random.randint(1, 10) / 20)"
   ]
  },
  {
   "cell_type": "code",
   "execution_count": null,
   "id": "09b47c60",
   "metadata": {},
   "outputs": [
    {
     "name": "stdout",
     "output_type": "stream",
     "text": [
      "Start typing in commands.\n",
      "> doge\n",
      "> help\n",
      "Too bad sucker, no help 4 U\n",
      "> color orange\n",
      "> candle\n",
      "U got it bruh, candleing now\n",
      "This stopn't, so break the cell when done frend\n"
     ]
    }
   ],
   "source": [
    "def Interface():\n",
    "    print(\"Start typing in commands.\")\n",
    "    \n",
    "    while True:\n",
    "        comm = input(\"> \")\n",
    "        commL = comm.lower()\n",
    "        \n",
    "        if commL == \"help\":\n",
    "            print(\"Too bad sucker, no help 4 U\")\n",
    "            \n",
    "        if commL[0:6] == \"color \":\n",
    "            if commL[6:] in colors:\n",
    "                pixels.fill(colors[commL[6:]])\n",
    "            else:\n",
    "                print(\"!!! ERROR: Such stupidity very wow. Colorn't\")\n",
    "        \n",
    "        if commL[0:6] == \"flash \":\n",
    "            cs = commL[6:]\n",
    "            arr = cs.split(\"|\")\n",
    "            \n",
    "            for i in arr:\n",
    "                if i in colors:\n",
    "                    pixels.fill(colors[i])\n",
    "                    sleep(0.5)\n",
    "                else:\n",
    "                    print(\"!!! ERROR: Such stupidity very wow. Colorn't\")\n",
    "                    \n",
    "            pixels.fill((0,0,0))\n",
    "            \n",
    "        if commL == \"off\":\n",
    "            pixels.fill((0,0,0))\n",
    "            \n",
    "        if commL[0:8] == \"forever \":\n",
    "            print(\"Such repeat, much wow\")\n",
    "            cs = commL[8:]\n",
    "            arr = cs.split(\"|\")\n",
    "            sleep(5)\n",
    "            print(\"This stopn't, so break the cell when done frend\")\n",
    "            \n",
    "            while True:\n",
    "                for i in arr:\n",
    "                    if i in colors:\n",
    "                        pixels.fill(colors[i])\n",
    "                        sleep(0.5)\n",
    "                    else:\n",
    "                        print(\"!!! ERROR: Such stupidity very wow. Colorn't\")\n",
    "                        \n",
    "        if commL == \"candle\":\n",
    "            print(\"U got it bruh, candleing now\")\n",
    "            sleep(0.5)\n",
    "            print(\"This stopn't, so break the cell when done frend\")\n",
    "            Candle()\n",
    "                    \n",
    "\n",
    "               \n",
    "                \n",
    "        \n",
    "                    \n",
    "            \n",
    "            \n",
    "Interface()        "
   ]
  }
 ],
 "metadata": {
  "kernelspec": {
   "display_name": "Python 3",
   "language": "python",
   "name": "python3"
  },
  "language_info": {
   "codemirror_mode": {
    "name": "ipython",
    "version": 3
   },
   "file_extension": ".py",
   "mimetype": "text/x-python",
   "name": "python",
   "nbconvert_exporter": "python",
   "pygments_lexer": "ipython3",
   "version": "3.7.3"
  }
 },
 "nbformat": 4,
 "nbformat_minor": 5
}
