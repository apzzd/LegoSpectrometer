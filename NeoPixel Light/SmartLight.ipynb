{
 "cells": [
  {
   "cell_type": "markdown",
   "id": "be7bd835",
   "metadata": {},
   "source": [
    "### NeoPixel Test\n",
    "\n",
    "More information at https://learn.adafruit.com/adafruit-seesaw-atsamd09-breakout/overview. Make sure to install the drivers first using\n",
    "\n",
    "```\n",
    "pip3 install adafruit-circuitpython-seesaw\n",
    "```"
   ]
  },
  {
   "cell_type": "code",
   "execution_count": 1,
   "id": "4db2dc42",
   "metadata": {},
   "outputs": [],
   "source": [
    "import time\n",
    "import board\n",
    "import busio\n",
    "import random\n",
    "from time import sleep\n",
    "from rainbowio import colorwheel\n",
    "from math import *\n",
    "from adafruit_seesaw import seesaw, neopixel\n",
    "\n",
    "i2c_bus = busio.I2C(board.SCL, board.SDA)\n",
    "ss = seesaw.Seesaw(i2c_bus)"
   ]
  },
  {
   "cell_type": "code",
   "execution_count": 2,
   "id": "5c7ce740",
   "metadata": {},
   "outputs": [],
   "source": [
    "NEOPIXEL_PIN = 9  # change to Pin NeoPixel is connected to (9, 10, 11, 14, 15, 24, or 25 )\n",
    "NEOPIXEL_NUM = 1  # no more than 60!\n",
    "\n",
    "pixels = neopixel.NeoPixel(ss, NEOPIXEL_PIN, NEOPIXEL_NUM)"
   ]
  },
  {
   "cell_type": "code",
   "execution_count": 3,
   "id": "c0390ee5",
   "metadata": {},
   "outputs": [],
   "source": [
    "pixels.brightness = 1.0\n",
    "pixels.fill((255,255,255)) # Note this is Red, Green, Blue from 0 to 255"
   ]
  },
  {
   "cell_type": "code",
   "execution_count": 4,
   "id": "6ee97b79",
   "metadata": {},
   "outputs": [],
   "source": [
    "pixels.fill((0,0,0)) # Off"
   ]
  },
  {
   "cell_type": "code",
   "execution_count": 5,
   "id": "96a8be32",
   "metadata": {},
   "outputs": [],
   "source": [
    "colors = {\"white\": (255, 255, 255), \"yellow\": (255,255,0), \"orange\": (255,135,0), \"red\": (255, 0, 0), \"green\": (0, 255, 0), \"blue\": (0, 0, 255), \"purple\": (255, 0, 255)}\n",
    "disco = [(255, 0, 0), (255,135,0), (255,255,0), (0, 255, 0), (0, 0, 255), (131,0,255)]\n",
    "candle = [(255,146,0), (255,130,0), (235,125,0), (235,110,0), (235,149,0)]\n",
    "\n",
    "def Candle():\n",
    "    while True:\n",
    "        pixels.fill(candle[random.randint(0, len(candle)-1)])\n",
    "        sleep(random.randint(1, 10) / 20)\n",
    "        \n",
    "### 👇 explain this function\n",
    "        \n",
    "def Fade(color1, color2, total_time): # declare the function, take inputs. color1 and color2 are rgb values\n",
    "    num_steps = 50 # the number of colors in between color1 and color2. the more steps, the smoother the transition.\n",
    "    sleep_time = total_time/num_steps # to make sure the function lasts only the time passed in, sleep for time/num_steps after showing each color.\n",
    "    for t in range(num_steps): # go through the numbers from 1 to num_steps, here, it's 50\n",
    "        p = t/num_steps\n",
    "        p = 1/2 + sin(pi*(p-1/2))/2 # the previous two lines do some complicated stuff so that the color transition looks nicer.\n",
    "        new_color = (floor(color1[0]*(1-p)+color2[0]*p), # red value\n",
    "                     floor(color1[1]*(1-p)+color2[1]*p), # green value\n",
    "                     floor(color1[2]*(1-p)+color2[2]*p)) # blue value. finds a color between color1 and color2.\n",
    "        pixels.fill(new_color) # show the color. 'pixels' refers to the NeoPixel\n",
    "        sleep(sleep_time) # wait for sleep_time seconds"
   ]
  },
  {
   "cell_type": "code",
   "execution_count": 13,
   "id": "b8046e45",
   "metadata": {},
   "outputs": [],
   "source": [
    "Fade((0,0,255), (255,0,0), 5) # run the function! we're trying to fade from blue to red"
   ]
  },
  {
   "cell_type": "code",
   "execution_count": null,
   "id": "09b47c60",
   "metadata": {},
   "outputs": [],
   "source": [
    "def Interface():\n",
    "    print(\"Start typing in commands.\")\n",
    "    \n",
    "    while True:\n",
    "        comm = input(\"> \")\n",
    "        commL = comm.lower()\n",
    "        \n",
    "        if commL == \"help\":\n",
    "            print(\"Too bad sucker, no help 4 U\")\n",
    "            \n",
    "        if commL[0:6] == \"color \":\n",
    "            if commL[6:] in colors:\n",
    "                pixels.fill(colors[commL[6:]])\n",
    "            else:\n",
    "                print(\"!!! ERROR: Such stupidity very wow. Colorn't\")\n",
    "        \n",
    "        if commL[0:6] == \"flash \":\n",
    "            cs = commL[6:]\n",
    "            arr = cs.split(\"|\")\n",
    "            \n",
    "            for i in arr:\n",
    "                if i in colors:\n",
    "                    pixels.fill(colors[i])\n",
    "                    sleep(0.5)\n",
    "                else:\n",
    "                    print(\"!!! ERROR: Such stupidity very wow. Colorn't\")\n",
    "                    \n",
    "            pixels.fill((0,0,0))\n",
    "            \n",
    "        if commL == \"off\":\n",
    "            pixels.fill((0,0,0))\n",
    "            \n",
    "        if commL == \"on\":\n",
    "            pixels.fill((255,255,255))\n",
    "            \n",
    "        if commL[0:8] == \"forever \":\n",
    "            print(\"Such repeat, much wow\")\n",
    "            cs = commL[8:]\n",
    "            arr = cs.split(\"|\")\n",
    "            print(\"This stopn't, so break the cell when done frend\")\n",
    "            \n",
    "            while True:\n",
    "                for i in arr:\n",
    "                    if i in colors:\n",
    "                        pixels.fill(colors[i])\n",
    "                        sleep(0.5)\n",
    "                    else:\n",
    "                        print(\"!!! ERROR: Such stupidity very wow. Colorn't\")\n",
    "                        \n",
    "        if commL == \"candle\":\n",
    "            print(\"U got it bruh, candleing now\")\n",
    "            sleep(0.5)\n",
    "            print(\"This stopn't, so break the cell when done frend\")\n",
    "            Candle()\n",
    "            \n",
    "        if commL[0:5] == \"fade \":\n",
    "            print(\"Such repeat, much wow\")\n",
    "            cs = commL[5:]\n",
    "            arr = cs.split(\"|\")\n",
    "            print(arr[0])\n",
    "            arr.append(arr[0])\n",
    "            print(\"This stopn't, so break the cell when done frend\")\n",
    "            \n",
    "            while True:\n",
    "                for i in range(len(arr) - 1):\n",
    "                    print(arr[i])\n",
    "                    if arr[i] in colors and arr[i+1] in colors:\n",
    "                        Fade(colors[arr[i]], colors[arr[i+1]], 3)\n",
    "                    else:\n",
    "                        print(\"!!! ERROR: Such stupidity very wow. Colorn't\")\n",
    "        if commL == \"night light\":\n",
    "            brightness = 1.0\n",
    "            for i in range(40000):\n",
    "                x = candle[random.randint(0, len(candle)-1)]\n",
    "                pixels.fill(x)\n",
    "                pixels.brightness = brightness - i/40000\n",
    "                sleep(0.5)\n",
    "            pixels.fill((0,0,0))\n",
    "\n",
    "               \n",
    "                \n",
    "        \n",
    "                    \n",
    "            \n",
    "            \n",
    "Interface()        "
   ]
  },
  {
   "cell_type": "code",
   "execution_count": null,
   "id": "26afc6d6",
   "metadata": {},
   "outputs": [],
   "source": [
    "from math import *\n",
    "\n",
    "color_dict = {\n",
    "    0: (0, 0, 0),\n",
    "    1: colors[\"green\"],\n",
    "    2: colors[\"blue\"],\n",
    "    3: colors[\"purple\"],\n",
    "    4: colors[\"red\"],\n",
    "    5: colors[\"orange\"],\n",
    "    6: colors[\"yellow\"],\n",
    "    7: colors[\"white\"]\n",
    "}\n",
    "\n",
    "for i in range(1, 128):\n",
    "    color_id = 0\n",
    "    while (i % 2 == 0):\n",
    "        color_id += 1\n",
    "        i = i/2\n",
    "    pixels.fill(color_dict[color_id])\n",
    "    sleep(0.3)\n",
    "    "
   ]
  },
  {
   "cell_type": "code",
   "execution_count": 8,
   "id": "d3ff694b",
   "metadata": {},
   "outputs": [],
   "source": []
  },
  {
   "cell_type": "code",
   "execution_count": 10,
   "id": "240fb4a9",
   "metadata": {},
   "outputs": [
    {
     "data": {
      "text/plain": [
       "(1, 2, 3, 4, 5, 6)"
      ]
     },
     "execution_count": 10,
     "metadata": {},
     "output_type": "execute_result"
    }
   ],
   "source": [
    "(1,2,3) + (4, 5, 6)"
   ]
  },
  {
   "cell_type": "code",
   "execution_count": null,
   "id": "dd602bbf",
   "metadata": {},
   "outputs": [],
   "source": []
  }
 ],
 "metadata": {
  "kernelspec": {
   "display_name": "Python 3",
   "language": "python",
   "name": "python3"
  },
  "language_info": {
   "codemirror_mode": {
    "name": "ipython",
    "version": 3
   },
   "file_extension": ".py",
   "mimetype": "text/x-python",
   "name": "python",
   "nbconvert_exporter": "python",
   "pygments_lexer": "ipython3",
   "version": "3.7.3"
  }
 },
 "nbformat": 4,
 "nbformat_minor": 5
}
