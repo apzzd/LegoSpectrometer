{
 "cells": [
  {
   "cell_type": "markdown",
   "id": "be7bd835",
   "metadata": {},
   "source": [
    "### NeoPixel Test\n",
    "\n",
    "More information at https://learn.adafruit.com/adafruit-seesaw-atsamd09-breakout/overview. Make sure to install the drivers first using\n",
    "\n",
    "```\n",
    "pip3 install adafruit-circuitpython-seesaw\n",
    "```"
   ]
  },
  {
   "cell_type": "code",
   "execution_count": 22,
   "id": "4db2dc42",
   "metadata": {},
   "outputs": [],
   "source": [
    "import time\n",
    "import board\n",
    "import busio\n",
    "from rainbowio import colorwheel\n",
    "from adafruit_seesaw import seesaw, neopixel\n",
    "\n",
    "i2c_bus = busio.I2C(board.SCL, board.SDA)\n",
    "ss = seesaw.Seesaw(i2c_bus)"
   ]
  },
  {
   "cell_type": "code",
   "execution_count": 23,
   "id": "5c7ce740",
   "metadata": {},
   "outputs": [],
   "source": [
    "NEOPIXEL_PIN = 9  # change to Pin NeoPixel is connected to (9, 10, 11, 14, 15, 24, or 25 )\n",
    "NEOPIXEL_NUM = 1  # no more than 60!\n",
    "\n",
    "pixels = neopixel.NeoPixel(ss, NEOPIXEL_PIN, NEOPIXEL_NUM)"
   ]
  },
  {
   "cell_type": "code",
   "execution_count": 27,
   "id": "c0390ee5",
   "metadata": {},
   "outputs": [],
   "source": [
    "pixels.brightness = 2.0\n",
    "pixels.fill((184,0,255)) # Note this is Red, Green, Blue from 0 to 255"
   ]
  },
  {
   "cell_type": "code",
   "execution_count": 4,
   "id": "6ee97b79",
   "metadata": {},
   "outputs": [],
   "source": [
    "pixels.fill((0,0,0)) # Off"
   ]
  },
  {
   "cell_type": "code",
   "execution_count": null,
   "id": "96a8be32",
   "metadata": {},
   "outputs": [],
   "source": []
  },
  {
   "cell_type": "code",
   "execution_count": null,
   "id": "09b47c60",
   "metadata": {},
   "outputs": [],
   "source": []
  }
 ],
 "metadata": {
  "kernelspec": {
   "display_name": "Python 3",
   "language": "python",
   "name": "python3"
  },
  "language_info": {
   "codemirror_mode": {
    "name": "ipython",
    "version": 3
   },
   "file_extension": ".py",
   "mimetype": "text/x-python",
   "name": "python",
   "nbconvert_exporter": "python",
   "pygments_lexer": "ipython3",
   "version": "3.7.3"
  }
 },
 "nbformat": 4,
 "nbformat_minor": 5
}
